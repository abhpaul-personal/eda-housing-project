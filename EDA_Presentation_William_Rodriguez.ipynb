{
 "cells": [
  {
   "cell_type": "markdown",
   "metadata": {
    "slideshow": {
     "slide_type": "slide"
    }
   },
   "source": [
    "# Exploratory Data Analysis and Recommendations for King County Housing Market\n",
    "\n",
    "**Tailored Insights for William Rodriguez**\n",
    "\n",
    "*Presented by: Abhijit Paul*\n",
    "\n",
    "*Date: 12.08.2024*\n"
   ]
  },
  {
   "cell_type": "markdown",
   "metadata": {},
   "source": [
    "## Introduction\n",
    "\n",
    "**Who You Are:**  \n",
    "I am a Data Scientist specializing in real estate analytics.\n",
    "\n",
    "**Who is Your Client:**  \n",
    "William Rodriguez, a buyer interested in purchasing two properties: one country house and one city house.\n",
    "- Country House: The purchase should be made at the best possible timing, focusing on non-renovated properties.\n",
    "- City House: The property should be centrally located with a fast acquisition process.\n",
    "\n",
    "**Objective:**  \n",
    "Provide insights and recommendations for purchasing the ideal country and city houses based on the King County Housing Data.\n"
   ]
  },
  {
   "cell_type": "markdown",
   "metadata": {},
   "source": [
    "## 2. Data Overview\n",
    "\n",
    "**Data Source**: The data consists of housing sales in King County, USA.\n",
    "\n",
    "**Time Span**: The data covers house sales from May 2014 to May 2015.\n",
    "\n",
    "**Location**: King County, including prominent towns like Seattle, Bellevue, Sammamish, Redmond, and Mercer Island.\n",
    "\n",
    "**Size of Data**: The dataset contains 21 columns, including information about house characteristics, prices, and locations.\n"
   ]
  },
  {
   "cell_type": "markdown",
   "metadata": {},
   "source": [
    "## 3. Hypotheses Introduction\n",
    "\n",
    "We formulated three main hypotheses to guide our analysis:\n",
    "\n",
    "1. **Location's Effect on Price**:\n",
    "   - Hypothesis: The closer a house is to the city center, the higher the price. Additionally, houses near water or in high-demand towns will have higher prices.\n",
    "\n",
    "2. **Timing's Effect on Price**:\n",
    "   - Hypothesis: Houses bought during peak seasons are more expensive, while prices drop in off-peak seasons.\n",
    "\n",
    "3. **Condition's Effect on Price**:\n",
    "   - Hypothesis: Renovated houses are priced higher than non-renovated ones, and older houses are priced lower unless renovated.\n"
   ]
  },
  {
   "cell_type": "markdown",
   "metadata": {},
   "source": [
    "## Research Questions and Hypotheses\n",
    "\n",
    "| Hypotheses                                                        | Indicators           |\n",
    "|-------------------------------------------------------------------|----------------------|\n",
    "| Does the location of a house affect the price?                    |                      |\n",
    "| 1. The closer a house is to the city center, the higher the price | - geolocation        |\n",
    "| 2. If a house is located near water, then the price is higher     | - waterfront (yes/no)|\n",
    "|      | |\n",
    "| Does the timing of purchase affect the price?                     |                      |\n",
    "| 1. Houses bought during peak seasons are more expensive           | - purchase date      |\n",
    "| 2. Prices drop in off-peak seasons                                | - seasonal trends    |\n",
    "|      | |\n",
    "| Does the condition of a house influence its price?                |                      |\n",
    "| 1. Renovated houses are priced higher than non-renovated ones     | - yr_renovated       |\n",
    "| 2. Older houses are priced lower unless renovated                 | - yr_built           |\n"
   ]
  },
  {
   "cell_type": "markdown",
   "metadata": {},
   "source": [
    "## Data Cleaning and Preparation\n",
    "\n",
    "**Steps taken to clean the data:**\n",
    "1. Handling missing values (e.g., filling `NaN` with 0 for `yr_renovated`).\n",
    "2. Addressing categorical variables (e.g., encoding `waterfront` and `view` columns).\n",
    "3. Filtering relevant data (e.g., filtering for non-renovated houses, and houses in city and country locations).\n"
   ]
  },
  {
   "cell_type": "markdown",
   "metadata": {},
   "source": [
    "## 4. Data Analysis\n",
    "\n",
    "### 4.1 Location's Effect on Price\n",
    "\n",
    "Below is a scatter plot that shows how the proximity to Seattle (city center) and the location in high-demand towns like Bellevue, Sammamish, and Mercer Island affect housing prices.\n",
    "\n",
    " - **Indicators**:\n",
    "     - **Latitude (`lat`) and Longitude (`long`)**:\n",
    "       - **Result**: `lat` has a positive correlation of 0.307 with the selling price, while `long` has a very weak correlation of 0.022.\n",
    "       - **Interpretation**: The positive correlation with latitude suggests that houses located further north (which may correspond to more desirable or central locations) are associated with higher prices. However, the very weak correlation with longitude indicates that east-west positioning does not have a strong influence on price.\n"
   ]
  },
  {
   "cell_type": "markdown",
   "metadata": {},
   "source": [
    "Observation: Properties in Seattle command higher prices, especially as square footage increases. Country houses in towns like Bellevue, Sammamish, and Mercer Island also show higher property values."
   ]
  },
  {
   "cell_type": "markdown",
   "metadata": {},
   "source": [
    "\n",
    "### 4.2 Timing's Effect on Price\n",
    "\n",
    "We analyzed whether seasonal trends affect housing prices by plotting the selling price against the date of sale.\n",
    "\n",
    "\n",
    "- **Indicators**:\n",
    "     - **Price Date (`price_date`)**:\n",
    "       - **Result**: `price_date` has a very weak negative correlation of -0.004 with the selling price.\n",
    "       - **Interpretation**: This very weak correlation suggests that the timing of the purchase (based on the date) does not significantly influence the price within the time frame of the dataset. This might indicate that within this dataset's period, the housing market was relatively stable, with no clear seasonal price trends.\n"
   ]
  },
  {
   "cell_type": "markdown",
   "metadata": {},
   "source": [
    "Observation: The data did not show a strong seasonal trend, suggesting that the market is relatively stable year-round."
   ]
  },
  {
   "cell_type": "markdown",
   "metadata": {},
   "source": [
    "### 4.3 Condition's Effect on Price\n",
    "\n",
    "This analysis looks at the impact of renovation status on housing prices. We compare prices of renovated vs. non-renovated houses.\n",
    "\n",
    "\n",
    " - **Indicators**:\n",
    "     - **Year Renovated (`yr_renovated`)**:\n",
    "       - **Result**: The `yr_renovated` feature has a weak positive correlation of 0.118 with the selling price.\n",
    "       - **Interpretation**: Although there is a positive correlation, it's relatively weak, indicating that while renovation does have some impact on increasing house prices, it is not as strong a factor as expected. This could be due to various factors, such as the quality of renovation or the initial condition of the house.\n",
    "     - **Year Built (`yr_built`)**:\n",
    "       - **Result**: The `yr_built` feature has a very weak positive correlation of 0.054 with the selling price.\n",
    "       - **Interpretation**: The weak positive correlation suggests that newer houses tend to have slightly higher prices, but this factor is not as significant. The age of the house alone is not a strong determinant of price unless it is combined with renovation.\n"
   ]
  },
  {
   "cell_type": "markdown",
   "metadata": {},
   "source": [
    "Observation: Non-renovated houses, especially in the country, can be purchased at a lower price, offering potential for future value appreciation after renovations."
   ]
  },
  {
   "cell_type": "markdown",
   "metadata": {},
   "source": [
    "\n",
    "## 5. Insights and Recommendations\n",
    "\n",
    "### For the Country House:\n",
    "\n",
    "- **Best Timing**: The best timing to purchase a country house is now, given the stable market conditions.\n",
    "- **Non-Renovated Properties**: Focus on non-renovated houses in towns like Sammamish, Redmond, or Mercer Island. These areas offer high-value properties at a lower price point.\n",
    "- **Location**: Prioritize Mercer Island or Sammamish for a spacious, serene environment while being within a reasonable distance from urban amenities.\n",
    "\n",
    "### For the City House:\n",
    "\n",
    "- **Fast & Central Location**: Concentrate on properties within Seattle for quick access to city amenities and business hubs.\n",
    "- **Property Size and Type**: Focus on properties with 2,000 to 4,000 sqft in Seattle for the best balance between price and central location.\n",
    "- **Investment Potential**: Seattle properties appreciate steadily and will provide excellent resale value if needed.\n"
   ]
  },
  {
   "cell_type": "markdown",
   "metadata": {},
   "source": [
    "## Top 3 Geo Plot\n",
    "\n",
    "Here is the visual representation of the top 3 properties based on location and price:\n",
    "\n",
    "![Top 3 Geo Plot](./plot-images/top3geoplot.png)"
   ]
  },
  {
   "cell_type": "markdown",
   "metadata": {},
   "source": [
    "## List of houses as per William's requirements"
   ]
  },
  {
   "cell_type": "markdown",
   "metadata": {},
   "source": [
    "### 1. Top 3 Country Houses"
   ]
  },
  {
   "cell_type": "markdown",
   "metadata": {},
   "source": [
    "| House ID    | Town          | Selling Price | Square Footage | Year Built | Why This is a Good Choice                                                                 |\n",
    "|-------------|---------------|---------------|----------------|------------|------------------------------------------------------------------------------------------|\n",
    "| 7558700030  | Mercer Island | 5300000.00    | 7390.00        | 1991       | Non-renovated large property in Mercer Island with 7390.0 sqft, priced at $5300000.00.   |\n",
    "| 8106100105  | Mercer Island | 3850000.00    | 5770.00        | 1980       | Non-renovated large property in Mercer Island with 5770.0 sqft, priced at $3850000.00.   |\n",
    "| 9362000040  | Mercer Island | 3400000.00    | 5230.00        | 2005       | Non-renovated large property in Mercer Island with 5230.0 sqft, priced at $3400000.00.   |\n"
   ]
  },
  {
   "cell_type": "markdown",
   "metadata": {},
   "source": [
    "### 2. Top 3 City Houses"
   ]
  },
  {
   "cell_type": "markdown",
   "metadata": {},
   "source": [
    "| House ID    | Town   | Selling Price | Square Footage | Why This is a Good Choice                                                                 |\n",
    "|-------------|--------|---------------|----------------|------------------------------------------------------------------------------------------|\n",
    "| 6762700020  | Seattle| 7700000.00    | 12050.00       | Centrally located property in Seattle with 12050.0 sqft, priced at $7700000.00.          |\n",
    "| 7738500731  | Seattle| 4500000.00    | 6640.00        | Centrally located property in Seattle with 6640.0 sqft, priced at $4500000.00.           |\n",
    "| 2303900100  | Seattle| 3800000.00    | 5510.00        | Centrally located property in Seattle with 5510.0 sqft, priced at $3800000.00.           |\n"
   ]
  },
  {
   "cell_type": "markdown",
   "metadata": {},
   "source": [
    "## 6. Summary and Next Steps\n",
    "\n",
    "- **Country House**: William should look for non-renovated properties in towns like Mercer Island, as per suggested in the top 3 table for country houses. The best timing is now, as waiting may not result in price reductions. These towns offer significant potential for value growth through renovations.\n",
    "\n",
    "- **City House**: William should focus on acquiring a centrally located property in Seattle for fast access to amenities and strong investment potential, as per the top 3 city house table.\n"
   ]
  }
 ],
 "metadata": {
  "kernelspec": {
   "display_name": ".venv",
   "language": "python",
   "name": "python3"
  },
  "language_info": {
   "codemirror_mode": {
    "name": "ipython",
    "version": 3
   },
   "file_extension": ".py",
   "mimetype": "text/x-python",
   "name": "python",
   "nbconvert_exporter": "python",
   "pygments_lexer": "ipython3",
   "version": "3.11.3"
  }
 },
 "nbformat": 4,
 "nbformat_minor": 2
}
